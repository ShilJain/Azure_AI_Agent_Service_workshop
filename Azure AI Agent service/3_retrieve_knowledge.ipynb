{
 "cells": [
  {
   "cell_type": "markdown",
   "metadata": {},
   "source": [
    "# Agent 3: Retrieve Knowledge\n",
    "\n",
    "Retrieve knowledge is an agent which uses vector search to find relevant information from internal knowledge base"
   ]
  },
  {
   "cell_type": "code",
   "execution_count": 1,
   "metadata": {},
   "outputs": [
    {
     "data": {
      "text/plain": [
       "True"
      ]
     },
     "execution_count": 1,
     "metadata": {},
     "output_type": "execute_result"
    }
   ],
   "source": [
    "# load environment variables from the .env file\n",
    "from dotenv import load_dotenv\n",
    "\n",
    "load_dotenv()"
   ]
  },
  {
   "cell_type": "code",
   "execution_count": 2,
   "metadata": {},
   "outputs": [],
   "source": [
    "import os\n",
    "from azure.ai.projects import AIProjectClient\n",
    "from azure.identity import DefaultAzureCredential\n",
    "\n",
    "# Create a client to interact with the Azure AI service\n",
    "project_client = AIProjectClient.from_connection_string(\n",
    "    credential=DefaultAzureCredential(), conn_str=os.environ[\"PROJECT_CONNECTION_STRING\"]\n",
    ")"
   ]
  },
  {
   "cell_type": "markdown",
   "metadata": {},
   "source": [
    "## Define knowledge base"
   ]
  },
  {
   "cell_type": "code",
   "execution_count": 5,
   "metadata": {},
   "outputs": [
    {
     "name": "stdout",
     "output_type": "stream",
     "text": [
      "Uploaded file, file ID: assistant-QWDLK1ufXoOdCqto3Z4V5WhJ\n",
      "Created vector store, vector store ID: vs_7MewlV44Pks96e7B357kes7I\n"
     ]
    }
   ],
   "source": [
    "# Upload file and create vector store\n",
    "file = project_client.agents.upload_file_and_poll(\n",
    "    file_path=\"./data/Energy Saving Tips.pdf\", purpose=\"assistants\")\n",
    "print(f\"Uploaded file, file ID: {file.id}\")\n",
    "\n",
    "vector_store = project_client.agents.create_vector_store_and_poll(\n",
    "    file_ids=[file.id], name=\"my_vectorstore\")\n",
    "print(f\"Created vector store, vector store ID: {vector_store.id}\")"
   ]
  },
  {
   "cell_type": "markdown",
   "metadata": {},
   "source": [
    "## Create Agent"
   ]
  },
  {
   "cell_type": "code",
   "execution_count": 9,
   "metadata": {},
   "outputs": [
    {
     "name": "stdout",
     "output_type": "stream",
     "text": [
      "Created agent, agent ID: asst_kft56ugjtndPNGvX6Cdszk9T\n"
     ]
    }
   ],
   "source": [
    "from azure.ai.projects.models import (\n",
    "    FileSearchTool,\n",
    ")\n",
    "\n",
    "# Create file search tool with resources followed by creating agent\n",
    "file_search = FileSearchTool(vector_store_ids=[vector_store.id])\n",
    "\n",
    "retrieve_agent= project_client.agents.create_agent(\n",
    "    model=os.environ[\"AZURE_OPENAI_DEPLOYMENT\"],\n",
    "    name=\"energy_saving_info\",\n",
    "    description=\"The Energy saving tips suggests actions to take to save on utilities bill.\",\n",
    "    instructions=\"Hello, you are helpful assistant and can search information from uploaded files.Only use the uploaded information to answer questions.\",\n",
    "    tools=file_search.definitions,\n",
    "    tool_resources=file_search.resources,\n",
    "    # Parameters\n",
    "    temperature=0.7,\n",
    "    top_p=0.95,\n",
    ")\n",
    "\n",
    "print(f\"Created agent, agent ID: {retrieve_agent.id}\")"
   ]
  },
  {
   "cell_type": "code",
   "execution_count": 10,
   "metadata": {},
   "outputs": [
    {
     "name": "stdout",
     "output_type": "stream",
     "text": [
      "Created thread, ID: thread_hevky7VdO20nWuooNM7ijMpU\n",
      "Created message, ID: msg_xkzeI2eb0B7ALqMWM4HGvogX\n",
      "Run finished with status: RunStatus.COMPLETED\n"
     ]
    }
   ],
   "source": [
    "# Create Thread\n",
    "thread = project_client.agents.create_thread()\n",
    "print(f\"Created thread, ID: {thread.id}\")\n",
    "\n",
    "# Create message to thread\n",
    "message = project_client.agents.create_message(\n",
    "    thread_id=thread.id, role=\"user\", content=\"I do heavy cooking, how can I save electricity in such a case?\"\n",
    ")\n",
    "print(f\"Created message, ID: {message.id}\")\n",
    "\n",
    "# Create and process assistant run in thread with tools\n",
    "run = project_client.agents.create_and_process_run(\n",
    "    thread_id=thread.id, assistant_id=retrieve_agent.id)\n",
    "print(f\"Run finished with status: {run.status}\")\n",
    "\n",
    "if run.status == \"failed\":\n",
    "    print(f\"Run failed: {run.last_error}\")"
   ]
  },
  {
   "cell_type": "code",
   "execution_count": null,
   "metadata": {},
   "outputs": [],
   "source": [
    "# Helper function\n",
    "\n",
    "from datetime import datetime\n",
    "def get_conversation_md(conversation):\n",
    "    \"\"\"\n",
    "    Function to return a conversation in Markdown (MD) format as a string.\n",
    "    \"\"\"\n",
    "    messages = conversation.get(\"data\", [])\n",
    "    if not messages:\n",
    "        return \"No messages found in the conversation.\"\n",
    "\n",
    "    # Initialize a list to hold the Markdown lines\n",
    "    md_lines = []\n",
    "    md_lines.append(\"# Conversation\")\n",
    "    md_lines.append(\"___\")  # Markdown horizontal line\n",
    "\n",
    "    # Iterate through the messages\n",
    "    # Reversing to maintain chronological order\n",
    "    for message in reversed(messages):\n",
    "        role = message.get(\"role\", \"unknown\").capitalize()\n",
    "        timestamp = message.get(\"created_at\")\n",
    "        content = message.get(\"content\", [])\n",
    "\n",
    "        # Convert timestamp to a readable format\n",
    "        if timestamp:\n",
    "            timestamp = datetime.fromtimestamp(\n",
    "                timestamp).astimezone().strftime('%Y-%m-%d %H:%M:%S %Z')\n",
    "        else:\n",
    "            timestamp = \"Unknown time\"\n",
    "\n",
    "        # Extract the text content\n",
    "        message_text = \"\"\n",
    "        for item in content:\n",
    "            if item.get(\"type\") == \"text\":\n",
    "                message_text += item[\"text\"].get(\"value\", \"\")\n",
    "\n",
    "        # Append the message in Markdown format\n",
    "        md_lines.append(f\"### **{role}** ({timestamp})\")\n",
    "        md_lines.append(f\"{message_text}\")\n",
    "        md_lines.append(\"___\")  # Markdown horizontal line\n",
    "\n",
    "    # Join the lines with newlines to form the complete Markdown string\n",
    "    return \"\\n\".join(md_lines)"
   ]
  },
  {
   "cell_type": "code",
   "execution_count": 11,
   "metadata": {},
   "outputs": [
    {
     "data": {
      "text/markdown": [
       "# Conversation\n",
       "___\n",
       "### **User** (2025-02-06 18:11:04 Malay Peninsula Standard Time)\n",
       "I do heavy cooking, how can I save electricity in such a case?\n",
       "___\n",
       "### **Assistant** (2025-02-06 18:11:07 Malay Peninsula Standard Time)\n",
       "To save electricity while doing heavy cooking, you can follow these tips:\n",
       "\n",
       "1. **Cover Pots While Cooking**: Food cooks faster in covered pots, which saves energy.\n",
       "2. **Match Pot Size to Burner Size**: Using a pot that matches the size of the burner prevents energy loss.\n",
       "3. **Use Microwave for Leftovers**: A microwave oven uses less energy compared to a conventional oven for cooking or warming leftovers.\n",
       "4. **Use an Oven Timer**: Instead of opening the oven door to check your food, use an oven timer to avoid losing heat.\n",
       "5. **Clean Appliances Regularly**: Regular cleaning of cooking appliances ensures efficient heat transfer.\n",
       "6. **Check Oven Door Seal**: Ensure that the seal on your oven door is intact to retain heat more effectively.\n",
       "7. **Plan Cooking Procedures**: Prepare your ingredients and plan your cooking steps ahead of time to minimize energy usage【4:0†Energy Saving Tips】.\n",
       "\n",
       "By implementing these practices, you can reduce your electricity consumption even while engaging in heavy cooking activities.\n",
       "___"
      ],
      "text/plain": [
       "<IPython.core.display.Markdown object>"
      ]
     },
     "metadata": {},
     "output_type": "display_data"
    }
   ],
   "source": [
    "# Display all messages in the thread\n",
    "from IPython.display import Markdown, display\n",
    "\n",
    "messages = project_client.agents.list_messages(thread_id=thread.id)\n",
    "\n",
    "display(Markdown(get_conversation_md(messages)))"
   ]
  },
  {
   "cell_type": "code",
   "execution_count": 12,
   "metadata": {},
   "outputs": [
    {
     "name": "stdout",
     "output_type": "stream",
     "text": [
      "{'type': 'file_citation', 'text': '【4:0†Energy Saving Tips】', 'start_index': 867, 'end_index': 891, 'file_citation': {'file_id': 'assistant-QWDLK1ufXoOdCqto3Z4V5WhJ'}}\n"
     ]
    }
   ],
   "source": [
    "# Print citations from the messages\n",
    "for citation in messages.file_citation_annotations:\n",
    "    print(citation)"
   ]
  },
  {
   "cell_type": "code",
   "execution_count": null,
   "metadata": {},
   "outputs": [],
   "source": [
    "# Delete the file when done\n",
    "project_client.agents.delete_vector_store(vector_store.id)\n",
    "print(\"Deleted vector store\")\n",
    "\n",
    "project_client.agents.delete_file(file_id=file.id)\n",
    "print(\"Deleted file\")\n",
    "\n",
    "# Delete the agent when done\n",
    "project_client.agents.delete_agent(agent.id)\n",
    "print(\"Deleted agent\")"
   ]
  }
 ],
 "metadata": {
  "kernelspec": {
   "display_name": "Python 3",
   "language": "python",
   "name": "python3"
  },
  "language_info": {
   "codemirror_mode": {
    "name": "ipython",
    "version": 3
   },
   "file_extension": ".py",
   "mimetype": "text/x-python",
   "name": "python",
   "nbconvert_exporter": "python",
   "pygments_lexer": "ipython3",
   "version": "3.12.9"
  }
 },
 "nbformat": 4,
 "nbformat_minor": 2
}
