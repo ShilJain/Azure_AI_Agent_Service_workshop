{
 "cells": [
  {
   "cell_type": "markdown",
   "metadata": {
    "vscode": {
     "languageId": "plaintext"
    }
   },
   "source": [
    "# Agent 1: Data Reader\n",
    "\n",
    "Attach data file to code interpreter action . Pass code interpreter tool to Agent service agent. Agents will use code interpreter to run python code to analyse historical consumption data."
   ]
  },
  {
   "cell_type": "code",
   "execution_count": 1,
   "metadata": {},
   "outputs": [
    {
     "data": {
      "text/plain": [
       "True"
      ]
     },
     "execution_count": 1,
     "metadata": {},
     "output_type": "execute_result"
    }
   ],
   "source": [
    "# load environment variables from the .env file and import the necessary modules\n",
    "from dotenv import load_dotenv\n",
    "import os\n",
    "from azure.ai.projects import AIProjectClient\n",
    "from azure.ai.projects.models import CodeInterpreterTool\n",
    "from azure.ai.projects.models import FilePurpose\n",
    "from azure.identity import DefaultAzureCredential\n",
    "from pathlib import Path\n",
    "\n",
    "load_dotenv()"
   ]
  },
  {
   "cell_type": "markdown",
   "metadata": {},
   "source": [
    "## Create Agent"
   ]
  },
  {
   "cell_type": "code",
   "execution_count": 2,
   "metadata": {},
   "outputs": [],
   "source": [
    "import os\n",
    "from azure.ai.projects import AIProjectClient\n",
    "from azure.identity import DefaultAzureCredential\n",
    "\n",
    "# Create a project client\n",
    "\n",
    "project_client = AIProjectClient.from_connection_string(\n",
    "    credential=DefaultAzureCredential(), conn_str=os.environ[\"PROJECT_CONNECTION_STRING\"]\n",
    ")"
   ]
  },
  {
   "cell_type": "code",
   "execution_count": 4,
   "metadata": {},
   "outputs": [
    {
     "name": "stdout",
     "output_type": "stream",
     "text": [
      "Uploaded file, file ID: assistant-xrBo5E8fmCiLRWECdYCphpaw\n"
     ]
    }
   ],
   "source": [
    "# Upload a file to the project\n",
    "file = project_client.agents.upload_file_and_poll(\n",
    "    file_path=\"./data/consumption.csv\", purpose=FilePurpose.AGENTS\n",
    ")\n",
    "print(f\"Uploaded file, file ID: {file.id}\")"
   ]
  },
  {
   "cell_type": "code",
   "execution_count": 5,
   "metadata": {},
   "outputs": [],
   "source": [
    "# Create a code interpreter tool and add the file to it\n",
    "code_interpreter = CodeInterpreterTool(file_ids=[file.id])"
   ]
  },
  {
   "cell_type": "code",
   "execution_count": 6,
   "metadata": {},
   "outputs": [
    {
     "name": "stdout",
     "output_type": "stream",
     "text": [
      "Created agent, agent ID: asst_C6cSSXmi8efpyMy6xHJv1x2P\n"
     ]
    }
   ],
   "source": [
    "instruction = \"\"\"\n",
    "# Role\n",
    "You are an AI agent specialized using python code to extract insights from the historical electricity consumption data.\n",
    "\"\"\"\n",
    "\n",
    "agent = project_client.agents.create_agent(\n",
    "    model=os.environ[\"AZURE_OPENAI_DEPLOYMENT\"],\n",
    "    name=\"data_analysis\",\n",
    "    instructions=instruction,\n",
    "    tools=code_interpreter.definitions,\n",
    "    tool_resources=code_interpreter.resources,\n",
    "    # Parameters\n",
    "    temperature=0.5,\n",
    "    top_p=0.95,\n",
    "    \n",
    ")\n",
    "\n",
    "print(f\"Created agent, agent ID: {agent.id}\")"
   ]
  },
  {
   "cell_type": "code",
   "execution_count": 22,
   "metadata": {},
   "outputs": [
    {
     "name": "stdout",
     "output_type": "stream",
     "text": [
      "Created thread, ID: thread_wVBkwLO15hobLLM5RsjwtSWa\n",
      "Created message, ID: msg_5LLoLxSAe2SA9uQQm5GVSvJL\n",
      "Run finished with status: RunStatus.COMPLETED\n",
      "Messages: Your average electricity consumption so far is approximately 470.58 units.\n",
      "\n",
      "If you have any other questions or need further analysis, please let me know!\n"
     ]
    }
   ],
   "source": [
    "import time\n",
    "from azure.ai.projects.models import RequiredFunctionToolCall, SubmitToolOutputsAction, ToolOutput\n",
    "\n",
    "# Create thread\n",
    "thread = project_client.agents.create_thread()\n",
    "print(f\"Created thread, ID: {thread.id}\")\n",
    "\n",
    "# Create message to thread\n",
    "message = project_client.agents.create_message(\n",
    "    thread_id=thread.id, role=\"user\", content=\"Hello,what is my average consumption so far\"\n",
    ")\n",
    "print(f\"Created message, ID: {message.id}\")\n",
    "\n",
    "# Create and process assistant run in thread with tools\n",
    " # create and execute a run\n",
    "run = project_client.agents.create_and_process_run(thread_id=thread.id, assistant_id=agent.id)\n",
    "print(f\"Run finished with status: {run.status}\")\n",
    "\n",
    "if run.status == \"failed\":\n",
    "    # Check if you got \"Rate limit is exceeded.\", then you want to get more quota\n",
    "    print(f\"Run failed: {run.last_error}\")\n",
    "\n",
    "# # delete the original file from the agent to free up space (note: this does not delete your version of the file)\n",
    "# project_client.agents.delete_file(file.id)\n",
    "# print(\"Deleted file\")\n",
    "\n",
    "# print the messages from the agent\n",
    "messages = project_client.agents.list_messages(thread_id=thread.id)\n",
    "print(f\"Messages: {messages.data[0].content[0]['text']['value']}\")\n",
    "\n",
    "\n"
   ]
  },
  {
   "cell_type": "code",
   "execution_count": 32,
   "metadata": {},
   "outputs": [
    {
     "name": "stdout",
     "output_type": "stream",
     "text": [
      "Image File ID: assistant-wxGzNblv90OQMroqQWk9sVrb\n",
      "Saved image file to: c:\\Users\\shilpajain\\OneDrive - Microsoft\\codes\\gbbai-workshops-main\\multi-agent\\single_agent\\assistant-wxGzNblv90OQMroqQWk9sVrb_image_file.png\n"
     ]
    }
   ],
   "source": [
    "# save the created image files\n",
    "for image_content in messages.image_contents:\n",
    "  print(f\"Image File ID: {image_content.image_file.file_id}\")\n",
    "  file_name = f\"{image_content.image_file.file_id}_image_file.png\"\n",
    "  project_client.agents.save_file(file_id=image_content.image_file.file_id, file_name=file_name)\n",
    "  print(f\"Saved image file to: {Path.cwd() / file_name}\")"
   ]
  }
 ],
 "metadata": {
  "kernelspec": {
   "display_name": "Python 3",
   "language": "python",
   "name": "python3"
  },
  "language_info": {
   "codemirror_mode": {
    "name": "ipython",
    "version": 3
   },
   "file_extension": ".py",
   "mimetype": "text/x-python",
   "name": "python",
   "nbconvert_exporter": "python",
   "pygments_lexer": "ipython3",
   "version": "3.12.9"
  }
 },
 "nbformat": 4,
 "nbformat_minor": 2
}
